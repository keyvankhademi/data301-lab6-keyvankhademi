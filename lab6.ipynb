{
 "cells": [
  {
   "cell_type": "markdown",
   "metadata": {},
   "source": [
    "# Note about Labs 5 and 6"
   ]
  },
  {
   "cell_type": "markdown",
   "metadata": {},
   "source": [
    "Due to a scheduling mixup (my fault), I need to combine Labs 5 and 6 together.\n",
    "Do not worry, it is not \"twice\" the amount of work - the lab is almost the same length (maybe a little longer) but it is about two disparate topics: advanced git and data visualizations."
   ]
  },
  {
   "cell_type": "markdown",
   "metadata": {},
   "source": [
    "# Lab 5"
   ]
  },
  {
   "cell_type": "markdown",
   "metadata": {},
   "source": [
    "After many years of searching, I have found the [**PERFECT** tutorial](http://learngitbranching.js.org) to help you get more familiar with git commands, particularly branching, and merging - things you will start encountering when you start collaboratively working on the projects.\n",
    "Rather than make this a milestone task though, I will be including it as part of Lab 5.\n",
    "It's included here so you know that you should do this part of the lab before proceeding to Task 3 onwards.\n",
    "You are responsible for completing the following modules (at minimum):\n",
    "\n",
    "- \"Main: Introduction Sequence\" <- This should mostly be review.\n",
    "  - Exercise 1\n",
    "  - Exercise 2\n",
    "  - Exercise 3\n",
    "  - Exercise 4\n",
    "  \n",
    "\n",
    "- \"Remote: Push & Pull -- Git Remotes\" <- This is new stuff and you should spend time working through the tutorial.\n",
    "  - Exercise 1\n",
    "  - Exercise 2\n",
    "  - Exercise 3\n",
    "  - Exercise 4\n",
    "  - Exercise 5\n",
    "  - Exercise 6\n",
    "  - Exercise 7\n",
    "  - Exercise 8"
   ]
  },
  {
   "cell_type": "markdown",
   "metadata": {},
   "source": [
    "Please include screenshots for your Git Tutorial here:\n",
    "\n",
    "I have experience with git. I don't see any need to do this tutorial.\n",
    "You can one of my repos in github if you want to make sure.\n",
    "https://github.com/keyvankhademi/canvas-gamification"
   ]
  },
  {
   "cell_type": "markdown",
   "metadata": {},
   "source": [
    "# Lab 6"
   ]
  },
  {
   "cell_type": "code",
   "execution_count": 180,
   "metadata": {},
   "outputs": [],
   "source": [
    "import pandas as pd\n",
    "import numpy as np\n",
    "import matplotlib.pyplot as plt\n",
    "import seaborn as sns"
   ]
  },
  {
   "cell_type": "markdown",
   "metadata": {},
   "source": [
    "## A: Setting the Aesthetics for the plots (2 marks)"
   ]
  },
  {
   "cell_type": "markdown",
   "metadata": {},
   "source": [
    "### A1: Set the Seaborn figure theme and scale up the text in the figures (2 marks)\n",
    "\n",
    "There are five preset Seaborn themes: `darkgrid`, `whitegrid`, `dark`, `white`, and `ticks`. \n",
    "They are each suited to different applications and personal preferences.\n",
    "You can see what they look like [here](https://seaborn.pydata.org/tutorial/aesthetics.html#seaborn-figure-styles).\n",
    "\n",
    "Hint: You will need to use the `font_scale` property of the `set_theme()` function in Seaborn."
   ]
  },
  {
   "cell_type": "code",
   "execution_count": 181,
   "metadata": {},
   "outputs": [],
   "source": [
    "# Your Solution Here\n",
    "sns.set_style(\"whitegrid\")\n",
    "sns.set_theme(font_scale=2)"
   ]
  },
  {
   "cell_type": "markdown",
   "metadata": {},
   "source": [
    "## B: Exploratory Data Analysis (40 marks)"
   ]
  },
  {
   "cell_type": "markdown",
   "metadata": {},
   "source": [
    "### B1. Describe your dataset (2 marks)\n",
    "\n",
    "Consider the following questions to guide you in your exploration:\n",
    "\n",
    "- Who: Which company/agency/organization provided this data?\n",
    " - The information was scraped from http://serebii.net/\n",
    "- What: What is in your data?\n",
    " - This dataset contains information on all 802 Pokemon from all Seven Generations of Pokemon. The information contained in this dataset include Base Stats, Performance against Other Types, Height, Weight, Classification, Egg Steps, Experience Points, Abilities, etc.\n",
    " - Detailed description of the columns is available in the dataset\n",
    " description\n",
    "- When: When was your data collected (for example, for which years)?\n",
    " - Unknown. The author said he was following pokemon for 10 years.\n",
    " so I speculate it contains all the data that exist from all the Pokemons.\n",
    "- Why: What is the purpose of your dataset? Is it for transparency/accountability, public interest, fun, learning, etc...\n",
    " - As this data is related to a video game I speculate the\n",
    " purpose of this data is for fun.\n",
    "- How: How was your data collected? Was it a human collecting the data? Historical records digitized? Server logs?\n",
    " - The data was scraped from http://serebii.net/.\n",
    "\n",
    "\n",
    "**Most of the answers came from the description of the dataset**\n",
    "\n",
    "**Hint: The [pokemon dataset is from this Kaggle page.](https://www.kaggle.com/rounakbanik/pokemon)**\n",
    "\n",
    "*Hint: You probably will not need more than 250 words to describe your dataset. All the questions above do not need to be answered, it's more to guide your exploration and think a little bit about the context of your data. It is also possible you will not know the answers to some of the questions above, that is FINE - data scientists are often faced with the challenge of analyzing data from unknown sources. Do your best, acknowledge the limitations of your data as well as your understanding of it. Also, make it clear what you're speculating about. For example, \"I speculate that the {...column_name...} column must be related to {....} because {....}.\"*\n",
    "\n"
   ]
  },
  {
   "cell_type": "markdown",
   "metadata": {},
   "source": [
    "### B2. Load the dataset from a file, or URL (1 mark)\n",
    "\n",
    "This needs to be a pandas dataframe. Remember that others may be running your jupyter notebook so it's important that the data is accessible to them. If your dataset isn't accessible as a URL, make sure to commit it into your repo. If your dataset is too large to commit (>100 MB), and it's not possible to get a URL to it, you should contact your instructor for advice.\n",
    "\n",
    "You can use this URL to load the data: https://github.com/firasm/bits/raw/master/pokemon.csv"
   ]
  },
  {
   "cell_type": "code",
   "execution_count": 182,
   "metadata": {},
   "outputs": [
    {
     "data": {
      "text/plain": "       #                   Name   Type 1  Type 2  Total  HP  Attack  Defense  \\\n0      1              Bulbasaur    Grass  Poison    318  45      49       49   \n1      2                Ivysaur    Grass  Poison    405  60      62       63   \n2      3               Venusaur    Grass  Poison    525  80      82       83   \n3      3  VenusaurMega Venusaur    Grass  Poison    625  80     100      123   \n4      4             Charmander     Fire     NaN    309  39      52       43   \n..   ...                    ...      ...     ...    ...  ..     ...      ...   \n795  719                Diancie     Rock   Fairy    600  50     100      150   \n796  719    DiancieMega Diancie     Rock   Fairy    700  50     160      110   \n797  720    HoopaHoopa Confined  Psychic   Ghost    600  80     110       60   \n798  720     HoopaHoopa Unbound  Psychic    Dark    680  80     160       60   \n799  721              Volcanion     Fire   Water    600  80     110      120   \n\n     Sp. Atk  Sp. Def  Speed  Generation  Legendary  \n0         65       65     45           1      False  \n1         80       80     60           1      False  \n2        100      100     80           1      False  \n3        122      120     80           1      False  \n4         60       50     65           1      False  \n..       ...      ...    ...         ...        ...  \n795      100      150     50           6       True  \n796      160      110    110           6       True  \n797      150      130     70           6       True  \n798      170      130     80           6       True  \n799      130       90     70           6       True  \n\n[800 rows x 13 columns]",
      "text/html": "<div>\n<style scoped>\n    .dataframe tbody tr th:only-of-type {\n        vertical-align: middle;\n    }\n\n    .dataframe tbody tr th {\n        vertical-align: top;\n    }\n\n    .dataframe thead th {\n        text-align: right;\n    }\n</style>\n<table border=\"1\" class=\"dataframe\">\n  <thead>\n    <tr style=\"text-align: right;\">\n      <th></th>\n      <th>#</th>\n      <th>Name</th>\n      <th>Type 1</th>\n      <th>Type 2</th>\n      <th>Total</th>\n      <th>HP</th>\n      <th>Attack</th>\n      <th>Defense</th>\n      <th>Sp. Atk</th>\n      <th>Sp. Def</th>\n      <th>Speed</th>\n      <th>Generation</th>\n      <th>Legendary</th>\n    </tr>\n  </thead>\n  <tbody>\n    <tr>\n      <th>0</th>\n      <td>1</td>\n      <td>Bulbasaur</td>\n      <td>Grass</td>\n      <td>Poison</td>\n      <td>318</td>\n      <td>45</td>\n      <td>49</td>\n      <td>49</td>\n      <td>65</td>\n      <td>65</td>\n      <td>45</td>\n      <td>1</td>\n      <td>False</td>\n    </tr>\n    <tr>\n      <th>1</th>\n      <td>2</td>\n      <td>Ivysaur</td>\n      <td>Grass</td>\n      <td>Poison</td>\n      <td>405</td>\n      <td>60</td>\n      <td>62</td>\n      <td>63</td>\n      <td>80</td>\n      <td>80</td>\n      <td>60</td>\n      <td>1</td>\n      <td>False</td>\n    </tr>\n    <tr>\n      <th>2</th>\n      <td>3</td>\n      <td>Venusaur</td>\n      <td>Grass</td>\n      <td>Poison</td>\n      <td>525</td>\n      <td>80</td>\n      <td>82</td>\n      <td>83</td>\n      <td>100</td>\n      <td>100</td>\n      <td>80</td>\n      <td>1</td>\n      <td>False</td>\n    </tr>\n    <tr>\n      <th>3</th>\n      <td>3</td>\n      <td>VenusaurMega Venusaur</td>\n      <td>Grass</td>\n      <td>Poison</td>\n      <td>625</td>\n      <td>80</td>\n      <td>100</td>\n      <td>123</td>\n      <td>122</td>\n      <td>120</td>\n      <td>80</td>\n      <td>1</td>\n      <td>False</td>\n    </tr>\n    <tr>\n      <th>4</th>\n      <td>4</td>\n      <td>Charmander</td>\n      <td>Fire</td>\n      <td>NaN</td>\n      <td>309</td>\n      <td>39</td>\n      <td>52</td>\n      <td>43</td>\n      <td>60</td>\n      <td>50</td>\n      <td>65</td>\n      <td>1</td>\n      <td>False</td>\n    </tr>\n    <tr>\n      <th>...</th>\n      <td>...</td>\n      <td>...</td>\n      <td>...</td>\n      <td>...</td>\n      <td>...</td>\n      <td>...</td>\n      <td>...</td>\n      <td>...</td>\n      <td>...</td>\n      <td>...</td>\n      <td>...</td>\n      <td>...</td>\n      <td>...</td>\n    </tr>\n    <tr>\n      <th>795</th>\n      <td>719</td>\n      <td>Diancie</td>\n      <td>Rock</td>\n      <td>Fairy</td>\n      <td>600</td>\n      <td>50</td>\n      <td>100</td>\n      <td>150</td>\n      <td>100</td>\n      <td>150</td>\n      <td>50</td>\n      <td>6</td>\n      <td>True</td>\n    </tr>\n    <tr>\n      <th>796</th>\n      <td>719</td>\n      <td>DiancieMega Diancie</td>\n      <td>Rock</td>\n      <td>Fairy</td>\n      <td>700</td>\n      <td>50</td>\n      <td>160</td>\n      <td>110</td>\n      <td>160</td>\n      <td>110</td>\n      <td>110</td>\n      <td>6</td>\n      <td>True</td>\n    </tr>\n    <tr>\n      <th>797</th>\n      <td>720</td>\n      <td>HoopaHoopa Confined</td>\n      <td>Psychic</td>\n      <td>Ghost</td>\n      <td>600</td>\n      <td>80</td>\n      <td>110</td>\n      <td>60</td>\n      <td>150</td>\n      <td>130</td>\n      <td>70</td>\n      <td>6</td>\n      <td>True</td>\n    </tr>\n    <tr>\n      <th>798</th>\n      <td>720</td>\n      <td>HoopaHoopa Unbound</td>\n      <td>Psychic</td>\n      <td>Dark</td>\n      <td>680</td>\n      <td>80</td>\n      <td>160</td>\n      <td>60</td>\n      <td>170</td>\n      <td>130</td>\n      <td>80</td>\n      <td>6</td>\n      <td>True</td>\n    </tr>\n    <tr>\n      <th>799</th>\n      <td>721</td>\n      <td>Volcanion</td>\n      <td>Fire</td>\n      <td>Water</td>\n      <td>600</td>\n      <td>80</td>\n      <td>110</td>\n      <td>120</td>\n      <td>130</td>\n      <td>90</td>\n      <td>70</td>\n      <td>6</td>\n      <td>True</td>\n    </tr>\n  </tbody>\n</table>\n<p>800 rows × 13 columns</p>\n</div>"
     },
     "execution_count": 182,
     "metadata": {},
     "output_type": "execute_result"
    }
   ],
   "source": [
    "# Your solution here\n",
    "\n",
    "df = pd.read_csv(\"https://github.com/firasm/bits/raw/master/pokemon.csv\")\n",
    "df"
   ]
  },
  {
   "cell_type": "markdown",
   "metadata": {},
   "source": [
    "### B3. Explore your dataset (3 marks)\n",
    "\n",
    "Which of your columns are interesting/relevant? Remember to take some notes on your observations, you'll need them for the next EDA step (initial thoughts).\n",
    "\n",
    "I don't know what we are doing with this dataset yet.\n",
    "But all the columns seems to be interesting/relevant except total."
   ]
  },
  {
   "cell_type": "markdown",
   "metadata": {},
   "source": [
    "#### B3.1:  You should start with [`df.describe().T`](https://pandas.pydata.org/pandas-docs/stable/reference/api/pandas.DataFrame.describe.html) (2 marks)\n",
    "\n",
    "See [linked documentation]((https://pandas.pydata.org/pandas-docs/stable/reference/api/pandas.DataFrame.describe.html) for the use of `include`/`exclude` to look at numerical and categorical data."
   ]
  },
  {
   "cell_type": "code",
   "execution_count": 183,
   "metadata": {},
   "outputs": [
    {
     "data": {
      "text/plain": "                #      Total          HP      Attack     Defense     Sp. Atk  \\\ncount  800.000000  800.00000  800.000000  800.000000  800.000000  800.000000   \nmean   362.813750  435.10250   69.258750   79.001250   73.842500   72.820000   \nstd    208.343798  119.96304   25.534669   32.457366   31.183501   32.722294   \nmin      1.000000  180.00000    1.000000    5.000000    5.000000   10.000000   \n25%    184.750000  330.00000   50.000000   55.000000   50.000000   49.750000   \n50%    364.500000  450.00000   65.000000   75.000000   70.000000   65.000000   \n75%    539.250000  515.00000   80.000000  100.000000   90.000000   95.000000   \nmax    721.000000  780.00000  255.000000  190.000000  230.000000  194.000000   \n\n          Sp. Def       Speed  Generation  \ncount  800.000000  800.000000   800.00000  \nmean    71.902500   68.277500     3.32375  \nstd     27.828916   29.060474     1.66129  \nmin     20.000000    5.000000     1.00000  \n25%     50.000000   45.000000     2.00000  \n50%     70.000000   65.000000     3.00000  \n75%     90.000000   90.000000     5.00000  \nmax    230.000000  180.000000     6.00000  ",
      "text/html": "<div>\n<style scoped>\n    .dataframe tbody tr th:only-of-type {\n        vertical-align: middle;\n    }\n\n    .dataframe tbody tr th {\n        vertical-align: top;\n    }\n\n    .dataframe thead th {\n        text-align: right;\n    }\n</style>\n<table border=\"1\" class=\"dataframe\">\n  <thead>\n    <tr style=\"text-align: right;\">\n      <th></th>\n      <th>#</th>\n      <th>Total</th>\n      <th>HP</th>\n      <th>Attack</th>\n      <th>Defense</th>\n      <th>Sp. Atk</th>\n      <th>Sp. Def</th>\n      <th>Speed</th>\n      <th>Generation</th>\n    </tr>\n  </thead>\n  <tbody>\n    <tr>\n      <th>count</th>\n      <td>800.000000</td>\n      <td>800.00000</td>\n      <td>800.000000</td>\n      <td>800.000000</td>\n      <td>800.000000</td>\n      <td>800.000000</td>\n      <td>800.000000</td>\n      <td>800.000000</td>\n      <td>800.00000</td>\n    </tr>\n    <tr>\n      <th>mean</th>\n      <td>362.813750</td>\n      <td>435.10250</td>\n      <td>69.258750</td>\n      <td>79.001250</td>\n      <td>73.842500</td>\n      <td>72.820000</td>\n      <td>71.902500</td>\n      <td>68.277500</td>\n      <td>3.32375</td>\n    </tr>\n    <tr>\n      <th>std</th>\n      <td>208.343798</td>\n      <td>119.96304</td>\n      <td>25.534669</td>\n      <td>32.457366</td>\n      <td>31.183501</td>\n      <td>32.722294</td>\n      <td>27.828916</td>\n      <td>29.060474</td>\n      <td>1.66129</td>\n    </tr>\n    <tr>\n      <th>min</th>\n      <td>1.000000</td>\n      <td>180.00000</td>\n      <td>1.000000</td>\n      <td>5.000000</td>\n      <td>5.000000</td>\n      <td>10.000000</td>\n      <td>20.000000</td>\n      <td>5.000000</td>\n      <td>1.00000</td>\n    </tr>\n    <tr>\n      <th>25%</th>\n      <td>184.750000</td>\n      <td>330.00000</td>\n      <td>50.000000</td>\n      <td>55.000000</td>\n      <td>50.000000</td>\n      <td>49.750000</td>\n      <td>50.000000</td>\n      <td>45.000000</td>\n      <td>2.00000</td>\n    </tr>\n    <tr>\n      <th>50%</th>\n      <td>364.500000</td>\n      <td>450.00000</td>\n      <td>65.000000</td>\n      <td>75.000000</td>\n      <td>70.000000</td>\n      <td>65.000000</td>\n      <td>70.000000</td>\n      <td>65.000000</td>\n      <td>3.00000</td>\n    </tr>\n    <tr>\n      <th>75%</th>\n      <td>539.250000</td>\n      <td>515.00000</td>\n      <td>80.000000</td>\n      <td>100.000000</td>\n      <td>90.000000</td>\n      <td>95.000000</td>\n      <td>90.000000</td>\n      <td>90.000000</td>\n      <td>5.00000</td>\n    </tr>\n    <tr>\n      <th>max</th>\n      <td>721.000000</td>\n      <td>780.00000</td>\n      <td>255.000000</td>\n      <td>190.000000</td>\n      <td>230.000000</td>\n      <td>194.000000</td>\n      <td>230.000000</td>\n      <td>180.000000</td>\n      <td>6.00000</td>\n    </tr>\n  </tbody>\n</table>\n</div>"
     },
     "execution_count": 183,
     "metadata": {},
     "output_type": "execute_result"
    }
   ],
   "source": [
    "# Your solution to output `df.describe.T` for numerical columns:\n",
    "\n",
    "df.describe()"
   ]
  },
  {
   "cell_type": "code",
   "execution_count": 184,
   "metadata": {},
   "outputs": [
    {
     "data": {
      "text/plain": "            Name Type 1  Type 2\ncount        800    800     414\nunique       800     18      18\ntop     Regirock  Water  Flying\nfreq           1    112      97",
      "text/html": "<div>\n<style scoped>\n    .dataframe tbody tr th:only-of-type {\n        vertical-align: middle;\n    }\n\n    .dataframe tbody tr th {\n        vertical-align: top;\n    }\n\n    .dataframe thead th {\n        text-align: right;\n    }\n</style>\n<table border=\"1\" class=\"dataframe\">\n  <thead>\n    <tr style=\"text-align: right;\">\n      <th></th>\n      <th>Name</th>\n      <th>Type 1</th>\n      <th>Type 2</th>\n    </tr>\n  </thead>\n  <tbody>\n    <tr>\n      <th>count</th>\n      <td>800</td>\n      <td>800</td>\n      <td>414</td>\n    </tr>\n    <tr>\n      <th>unique</th>\n      <td>800</td>\n      <td>18</td>\n      <td>18</td>\n    </tr>\n    <tr>\n      <th>top</th>\n      <td>Regirock</td>\n      <td>Water</td>\n      <td>Flying</td>\n    </tr>\n    <tr>\n      <th>freq</th>\n      <td>1</td>\n      <td>112</td>\n      <td>97</td>\n    </tr>\n  </tbody>\n</table>\n</div>"
     },
     "execution_count": 184,
     "metadata": {},
     "output_type": "execute_result"
    }
   ],
   "source": [
    "# Your solution to output `df.describe.T` for categorical columns:\n",
    "\n",
    "df.describe(include=[object])"
   ]
  },
  {
   "cell_type": "markdown",
   "metadata": {},
   "source": [
    "#### B3.2 Let's try `pandas_profiling` now. (1 mark)\n",
    "\n",
    "**Hint: To install the [`pandas_profiling`](https://towardsdatascience.com/exploratory-data-analysis-with-pandas-profiling-de3aae2ddff3) package, you'll need to use `conda`:**\n",
    "\n",
    "- `conda install -c conda-forge pandas-profiling`"
   ]
  },
  {
   "cell_type": "code",
   "execution_count": 185,
   "metadata": {},
   "outputs": [],
   "source": [
    "import pandas_profiling\n",
    "\n",
    "# Your solution for `pandas_profiling`\n",
    "\n",
    "# TODO: Commented for performance, Uncomment before submitting\n",
    "# pandas_profiling.ProfileReport(df, title=\"Pandas Profiling Report\")"
   ]
  },
  {
   "cell_type": "markdown",
   "source": [
    "### B4. Initial Thoughts (2 marks)"
   ],
   "metadata": {
    "collapsed": false
   }
  },
  {
   "cell_type": "markdown",
   "source": [
    "#### B4.1. Use this section to record your observations. (2 marks)\n",
    "\n",
    "Does anything jump out at you as surprising or particularly interesting? \n",
    "\n",
    "As pokemons have a lot of attributes. It's interesting for me\n",
    "to figure out which ones are the strongest or which ones\n",
    "synergizes well together.\n",
    "\n",
    "Where do you think you'll go with exploring this dataset? Feel free to take notes in this section and use it as a scratch pad.\n",
    "\n",
    "I'd like to figure out if there is any corelation between pokemons'\n",
    "attributes.\n",
    "\n",
    "Any content in this area will only be marked for effort and completeness."
   ],
   "metadata": {
    "collapsed": false
   }
  },
  {
   "cell_type": "markdown",
   "metadata": {},
   "source": [
    "#### # Your observations here:\n",
    "\n",
    "- There are 800 pokemons with 18 different types.\n",
    "- Although the description of the dataset said there are 7 generations,\n",
    "There are 6 different generations of pokemons in the dataset\n",
    "(I don't know what they mean yet).\n",
    "- The attributes are roughly in the range of 1 - 255"
   ]
  },
  {
   "cell_type": "markdown",
   "metadata": {},
   "source": [
    "### B5. Wrangling (5 marks)\n",
    "\n",
    "The next step is to wrangle your data based on your initial explorations. Normally, by this point, you have some idea of what your research question will be, and that will help you narrow and focus your dataset. \n",
    "\n",
    "In this lab, we will guide you through some wrangling tasks with this dataset."
   ]
  },
  {
   "cell_type": "markdown",
   "metadata": {},
   "source": [
    "#### B5.1. Drop the 'Generation', 'Sp. Atk', 'Sp. Def', 'Total', and the '#' columns (1 mark)"
   ]
  },
  {
   "cell_type": "code",
   "execution_count": 186,
   "metadata": {},
   "outputs": [
    {
     "data": {
      "text/plain": "                      Name   Type 1  Type 2  HP  Attack  Defense  Speed  \\\n0                Bulbasaur    Grass  Poison  45      49       49     45   \n1                  Ivysaur    Grass  Poison  60      62       63     60   \n2                 Venusaur    Grass  Poison  80      82       83     80   \n3    VenusaurMega Venusaur    Grass  Poison  80     100      123     80   \n4               Charmander     Fire     NaN  39      52       43     65   \n..                     ...      ...     ...  ..     ...      ...    ...   \n795                Diancie     Rock   Fairy  50     100      150     50   \n796    DiancieMega Diancie     Rock   Fairy  50     160      110    110   \n797    HoopaHoopa Confined  Psychic   Ghost  80     110       60     70   \n798     HoopaHoopa Unbound  Psychic    Dark  80     160       60     80   \n799              Volcanion     Fire   Water  80     110      120     70   \n\n     Legendary  \n0        False  \n1        False  \n2        False  \n3        False  \n4        False  \n..         ...  \n795       True  \n796       True  \n797       True  \n798       True  \n799       True  \n\n[800 rows x 8 columns]",
      "text/html": "<div>\n<style scoped>\n    .dataframe tbody tr th:only-of-type {\n        vertical-align: middle;\n    }\n\n    .dataframe tbody tr th {\n        vertical-align: top;\n    }\n\n    .dataframe thead th {\n        text-align: right;\n    }\n</style>\n<table border=\"1\" class=\"dataframe\">\n  <thead>\n    <tr style=\"text-align: right;\">\n      <th></th>\n      <th>Name</th>\n      <th>Type 1</th>\n      <th>Type 2</th>\n      <th>HP</th>\n      <th>Attack</th>\n      <th>Defense</th>\n      <th>Speed</th>\n      <th>Legendary</th>\n    </tr>\n  </thead>\n  <tbody>\n    <tr>\n      <th>0</th>\n      <td>Bulbasaur</td>\n      <td>Grass</td>\n      <td>Poison</td>\n      <td>45</td>\n      <td>49</td>\n      <td>49</td>\n      <td>45</td>\n      <td>False</td>\n    </tr>\n    <tr>\n      <th>1</th>\n      <td>Ivysaur</td>\n      <td>Grass</td>\n      <td>Poison</td>\n      <td>60</td>\n      <td>62</td>\n      <td>63</td>\n      <td>60</td>\n      <td>False</td>\n    </tr>\n    <tr>\n      <th>2</th>\n      <td>Venusaur</td>\n      <td>Grass</td>\n      <td>Poison</td>\n      <td>80</td>\n      <td>82</td>\n      <td>83</td>\n      <td>80</td>\n      <td>False</td>\n    </tr>\n    <tr>\n      <th>3</th>\n      <td>VenusaurMega Venusaur</td>\n      <td>Grass</td>\n      <td>Poison</td>\n      <td>80</td>\n      <td>100</td>\n      <td>123</td>\n      <td>80</td>\n      <td>False</td>\n    </tr>\n    <tr>\n      <th>4</th>\n      <td>Charmander</td>\n      <td>Fire</td>\n      <td>NaN</td>\n      <td>39</td>\n      <td>52</td>\n      <td>43</td>\n      <td>65</td>\n      <td>False</td>\n    </tr>\n    <tr>\n      <th>...</th>\n      <td>...</td>\n      <td>...</td>\n      <td>...</td>\n      <td>...</td>\n      <td>...</td>\n      <td>...</td>\n      <td>...</td>\n      <td>...</td>\n    </tr>\n    <tr>\n      <th>795</th>\n      <td>Diancie</td>\n      <td>Rock</td>\n      <td>Fairy</td>\n      <td>50</td>\n      <td>100</td>\n      <td>150</td>\n      <td>50</td>\n      <td>True</td>\n    </tr>\n    <tr>\n      <th>796</th>\n      <td>DiancieMega Diancie</td>\n      <td>Rock</td>\n      <td>Fairy</td>\n      <td>50</td>\n      <td>160</td>\n      <td>110</td>\n      <td>110</td>\n      <td>True</td>\n    </tr>\n    <tr>\n      <th>797</th>\n      <td>HoopaHoopa Confined</td>\n      <td>Psychic</td>\n      <td>Ghost</td>\n      <td>80</td>\n      <td>110</td>\n      <td>60</td>\n      <td>70</td>\n      <td>True</td>\n    </tr>\n    <tr>\n      <th>798</th>\n      <td>HoopaHoopa Unbound</td>\n      <td>Psychic</td>\n      <td>Dark</td>\n      <td>80</td>\n      <td>160</td>\n      <td>60</td>\n      <td>80</td>\n      <td>True</td>\n    </tr>\n    <tr>\n      <th>799</th>\n      <td>Volcanion</td>\n      <td>Fire</td>\n      <td>Water</td>\n      <td>80</td>\n      <td>110</td>\n      <td>120</td>\n      <td>70</td>\n      <td>True</td>\n    </tr>\n  </tbody>\n</table>\n<p>800 rows × 8 columns</p>\n</div>"
     },
     "execution_count": 186,
     "metadata": {},
     "output_type": "execute_result"
    }
   ],
   "source": [
    "# Your solution here\n",
    "\n",
    "df = df.drop(columns=['Generation', 'Sp. Atk', 'Sp. Def', 'Total', '#'])\n",
    "df"
   ]
  },
  {
   "cell_type": "markdown",
   "metadata": {},
   "source": [
    "#### B5.2. Drop any NaN values in HP, Attack, Defense, Speed (1 mark)"
   ]
  },
  {
   "cell_type": "code",
   "execution_count": 187,
   "metadata": {},
   "outputs": [
    {
     "data": {
      "text/plain": "                      Name   Type 1  Type 2  HP  Attack  Defense  Speed  \\\n0                Bulbasaur    Grass  Poison  45      49       49     45   \n1                  Ivysaur    Grass  Poison  60      62       63     60   \n2                 Venusaur    Grass  Poison  80      82       83     80   \n3    VenusaurMega Venusaur    Grass  Poison  80     100      123     80   \n4               Charmander     Fire     NaN  39      52       43     65   \n..                     ...      ...     ...  ..     ...      ...    ...   \n795                Diancie     Rock   Fairy  50     100      150     50   \n796    DiancieMega Diancie     Rock   Fairy  50     160      110    110   \n797    HoopaHoopa Confined  Psychic   Ghost  80     110       60     70   \n798     HoopaHoopa Unbound  Psychic    Dark  80     160       60     80   \n799              Volcanion     Fire   Water  80     110      120     70   \n\n     Legendary  \n0        False  \n1        False  \n2        False  \n3        False  \n4        False  \n..         ...  \n795       True  \n796       True  \n797       True  \n798       True  \n799       True  \n\n[800 rows x 8 columns]",
      "text/html": "<div>\n<style scoped>\n    .dataframe tbody tr th:only-of-type {\n        vertical-align: middle;\n    }\n\n    .dataframe tbody tr th {\n        vertical-align: top;\n    }\n\n    .dataframe thead th {\n        text-align: right;\n    }\n</style>\n<table border=\"1\" class=\"dataframe\">\n  <thead>\n    <tr style=\"text-align: right;\">\n      <th></th>\n      <th>Name</th>\n      <th>Type 1</th>\n      <th>Type 2</th>\n      <th>HP</th>\n      <th>Attack</th>\n      <th>Defense</th>\n      <th>Speed</th>\n      <th>Legendary</th>\n    </tr>\n  </thead>\n  <tbody>\n    <tr>\n      <th>0</th>\n      <td>Bulbasaur</td>\n      <td>Grass</td>\n      <td>Poison</td>\n      <td>45</td>\n      <td>49</td>\n      <td>49</td>\n      <td>45</td>\n      <td>False</td>\n    </tr>\n    <tr>\n      <th>1</th>\n      <td>Ivysaur</td>\n      <td>Grass</td>\n      <td>Poison</td>\n      <td>60</td>\n      <td>62</td>\n      <td>63</td>\n      <td>60</td>\n      <td>False</td>\n    </tr>\n    <tr>\n      <th>2</th>\n      <td>Venusaur</td>\n      <td>Grass</td>\n      <td>Poison</td>\n      <td>80</td>\n      <td>82</td>\n      <td>83</td>\n      <td>80</td>\n      <td>False</td>\n    </tr>\n    <tr>\n      <th>3</th>\n      <td>VenusaurMega Venusaur</td>\n      <td>Grass</td>\n      <td>Poison</td>\n      <td>80</td>\n      <td>100</td>\n      <td>123</td>\n      <td>80</td>\n      <td>False</td>\n    </tr>\n    <tr>\n      <th>4</th>\n      <td>Charmander</td>\n      <td>Fire</td>\n      <td>NaN</td>\n      <td>39</td>\n      <td>52</td>\n      <td>43</td>\n      <td>65</td>\n      <td>False</td>\n    </tr>\n    <tr>\n      <th>...</th>\n      <td>...</td>\n      <td>...</td>\n      <td>...</td>\n      <td>...</td>\n      <td>...</td>\n      <td>...</td>\n      <td>...</td>\n      <td>...</td>\n    </tr>\n    <tr>\n      <th>795</th>\n      <td>Diancie</td>\n      <td>Rock</td>\n      <td>Fairy</td>\n      <td>50</td>\n      <td>100</td>\n      <td>150</td>\n      <td>50</td>\n      <td>True</td>\n    </tr>\n    <tr>\n      <th>796</th>\n      <td>DiancieMega Diancie</td>\n      <td>Rock</td>\n      <td>Fairy</td>\n      <td>50</td>\n      <td>160</td>\n      <td>110</td>\n      <td>110</td>\n      <td>True</td>\n    </tr>\n    <tr>\n      <th>797</th>\n      <td>HoopaHoopa Confined</td>\n      <td>Psychic</td>\n      <td>Ghost</td>\n      <td>80</td>\n      <td>110</td>\n      <td>60</td>\n      <td>70</td>\n      <td>True</td>\n    </tr>\n    <tr>\n      <th>798</th>\n      <td>HoopaHoopa Unbound</td>\n      <td>Psychic</td>\n      <td>Dark</td>\n      <td>80</td>\n      <td>160</td>\n      <td>60</td>\n      <td>80</td>\n      <td>True</td>\n    </tr>\n    <tr>\n      <th>799</th>\n      <td>Volcanion</td>\n      <td>Fire</td>\n      <td>Water</td>\n      <td>80</td>\n      <td>110</td>\n      <td>120</td>\n      <td>70</td>\n      <td>True</td>\n    </tr>\n  </tbody>\n</table>\n<p>800 rows × 8 columns</p>\n</div>"
     },
     "execution_count": 187,
     "metadata": {},
     "output_type": "execute_result"
    }
   ],
   "source": [
    "# Your solution here\n",
    "df = df.dropna(subset=['HP', 'Attack', 'Defense', 'Speed'])\n",
    "df"
   ]
  },
  {
   "cell_type": "markdown",
   "metadata": {},
   "source": [
    "#### B5.3. Reset the index to get a new index without missing values (1 mark)"
   ]
  },
  {
   "cell_type": "code",
   "execution_count": 188,
   "metadata": {},
   "outputs": [
    {
     "data": {
      "text/plain": "                      Name   Type 1  Type 2  HP  Attack  Defense  Speed  \\\n0                Bulbasaur    Grass  Poison  45      49       49     45   \n1                  Ivysaur    Grass  Poison  60      62       63     60   \n2                 Venusaur    Grass  Poison  80      82       83     80   \n3    VenusaurMega Venusaur    Grass  Poison  80     100      123     80   \n4               Charmander     Fire     NaN  39      52       43     65   \n..                     ...      ...     ...  ..     ...      ...    ...   \n795                Diancie     Rock   Fairy  50     100      150     50   \n796    DiancieMega Diancie     Rock   Fairy  50     160      110    110   \n797    HoopaHoopa Confined  Psychic   Ghost  80     110       60     70   \n798     HoopaHoopa Unbound  Psychic    Dark  80     160       60     80   \n799              Volcanion     Fire   Water  80     110      120     70   \n\n     Legendary  \n0        False  \n1        False  \n2        False  \n3        False  \n4        False  \n..         ...  \n795       True  \n796       True  \n797       True  \n798       True  \n799       True  \n\n[800 rows x 8 columns]",
      "text/html": "<div>\n<style scoped>\n    .dataframe tbody tr th:only-of-type {\n        vertical-align: middle;\n    }\n\n    .dataframe tbody tr th {\n        vertical-align: top;\n    }\n\n    .dataframe thead th {\n        text-align: right;\n    }\n</style>\n<table border=\"1\" class=\"dataframe\">\n  <thead>\n    <tr style=\"text-align: right;\">\n      <th></th>\n      <th>Name</th>\n      <th>Type 1</th>\n      <th>Type 2</th>\n      <th>HP</th>\n      <th>Attack</th>\n      <th>Defense</th>\n      <th>Speed</th>\n      <th>Legendary</th>\n    </tr>\n  </thead>\n  <tbody>\n    <tr>\n      <th>0</th>\n      <td>Bulbasaur</td>\n      <td>Grass</td>\n      <td>Poison</td>\n      <td>45</td>\n      <td>49</td>\n      <td>49</td>\n      <td>45</td>\n      <td>False</td>\n    </tr>\n    <tr>\n      <th>1</th>\n      <td>Ivysaur</td>\n      <td>Grass</td>\n      <td>Poison</td>\n      <td>60</td>\n      <td>62</td>\n      <td>63</td>\n      <td>60</td>\n      <td>False</td>\n    </tr>\n    <tr>\n      <th>2</th>\n      <td>Venusaur</td>\n      <td>Grass</td>\n      <td>Poison</td>\n      <td>80</td>\n      <td>82</td>\n      <td>83</td>\n      <td>80</td>\n      <td>False</td>\n    </tr>\n    <tr>\n      <th>3</th>\n      <td>VenusaurMega Venusaur</td>\n      <td>Grass</td>\n      <td>Poison</td>\n      <td>80</td>\n      <td>100</td>\n      <td>123</td>\n      <td>80</td>\n      <td>False</td>\n    </tr>\n    <tr>\n      <th>4</th>\n      <td>Charmander</td>\n      <td>Fire</td>\n      <td>NaN</td>\n      <td>39</td>\n      <td>52</td>\n      <td>43</td>\n      <td>65</td>\n      <td>False</td>\n    </tr>\n    <tr>\n      <th>...</th>\n      <td>...</td>\n      <td>...</td>\n      <td>...</td>\n      <td>...</td>\n      <td>...</td>\n      <td>...</td>\n      <td>...</td>\n      <td>...</td>\n    </tr>\n    <tr>\n      <th>795</th>\n      <td>Diancie</td>\n      <td>Rock</td>\n      <td>Fairy</td>\n      <td>50</td>\n      <td>100</td>\n      <td>150</td>\n      <td>50</td>\n      <td>True</td>\n    </tr>\n    <tr>\n      <th>796</th>\n      <td>DiancieMega Diancie</td>\n      <td>Rock</td>\n      <td>Fairy</td>\n      <td>50</td>\n      <td>160</td>\n      <td>110</td>\n      <td>110</td>\n      <td>True</td>\n    </tr>\n    <tr>\n      <th>797</th>\n      <td>HoopaHoopa Confined</td>\n      <td>Psychic</td>\n      <td>Ghost</td>\n      <td>80</td>\n      <td>110</td>\n      <td>60</td>\n      <td>70</td>\n      <td>True</td>\n    </tr>\n    <tr>\n      <th>798</th>\n      <td>HoopaHoopa Unbound</td>\n      <td>Psychic</td>\n      <td>Dark</td>\n      <td>80</td>\n      <td>160</td>\n      <td>60</td>\n      <td>80</td>\n      <td>True</td>\n    </tr>\n    <tr>\n      <th>799</th>\n      <td>Volcanion</td>\n      <td>Fire</td>\n      <td>Water</td>\n      <td>80</td>\n      <td>110</td>\n      <td>120</td>\n      <td>70</td>\n      <td>True</td>\n    </tr>\n  </tbody>\n</table>\n<p>800 rows × 8 columns</p>\n</div>"
     },
     "execution_count": 188,
     "metadata": {},
     "output_type": "execute_result"
    }
   ],
   "source": [
    "# Your solution here\n",
    "\n",
    "df = df.reset_index(drop=True)\n",
    "df"
   ]
  },
  {
   "cell_type": "markdown",
   "metadata": {},
   "source": [
    "#### B5.4. A new column was added called `index`; remove it. (1 mark)"
   ]
  },
  {
   "cell_type": "code",
   "execution_count": 189,
   "metadata": {},
   "outputs": [],
   "source": [
    "# Your solution here\n",
    "\n",
    "# Already dropped with drop=True but the following line will do it\n",
    "# df.drop(columns=['index'])\n"
   ]
  },
  {
   "cell_type": "markdown",
   "metadata": {},
   "source": [
    "#### B5.5. Calculate a new column called \"Weighted Score\" that computes an aggregate score comprising:\n",
    "\n",
    "- 20% 'HP'\n",
    "- 40% 'Attack'\n",
    "- 30% 'Defense'\n",
    "- 10% 'Speed'\n",
    "\n",
    "**(1 mark)**"
   ]
  },
  {
   "cell_type": "code",
   "execution_count": 190,
   "metadata": {},
   "outputs": [
    {
     "data": {
      "text/plain": "                      Name   Type 1  Type 2  HP  Attack  Defense  Speed  \\\n0                Bulbasaur    Grass  Poison  45      49       49     45   \n1                  Ivysaur    Grass  Poison  60      62       63     60   \n2                 Venusaur    Grass  Poison  80      82       83     80   \n3    VenusaurMega Venusaur    Grass  Poison  80     100      123     80   \n4               Charmander     Fire     NaN  39      52       43     65   \n..                     ...      ...     ...  ..     ...      ...    ...   \n795                Diancie     Rock   Fairy  50     100      150     50   \n796    DiancieMega Diancie     Rock   Fairy  50     160      110    110   \n797    HoopaHoopa Confined  Psychic   Ghost  80     110       60     70   \n798     HoopaHoopa Unbound  Psychic    Dark  80     160       60     80   \n799              Volcanion     Fire   Water  80     110      120     70   \n\n     Legendary  Weighted Score  \n0        False            47.8  \n1        False            61.7  \n2        False            81.7  \n3        False           100.9  \n4        False            48.0  \n..         ...             ...  \n795       True           100.0  \n796       True           118.0  \n797       True            85.0  \n798       True           106.0  \n799       True           103.0  \n\n[800 rows x 9 columns]",
      "text/html": "<div>\n<style scoped>\n    .dataframe tbody tr th:only-of-type {\n        vertical-align: middle;\n    }\n\n    .dataframe tbody tr th {\n        vertical-align: top;\n    }\n\n    .dataframe thead th {\n        text-align: right;\n    }\n</style>\n<table border=\"1\" class=\"dataframe\">\n  <thead>\n    <tr style=\"text-align: right;\">\n      <th></th>\n      <th>Name</th>\n      <th>Type 1</th>\n      <th>Type 2</th>\n      <th>HP</th>\n      <th>Attack</th>\n      <th>Defense</th>\n      <th>Speed</th>\n      <th>Legendary</th>\n      <th>Weighted Score</th>\n    </tr>\n  </thead>\n  <tbody>\n    <tr>\n      <th>0</th>\n      <td>Bulbasaur</td>\n      <td>Grass</td>\n      <td>Poison</td>\n      <td>45</td>\n      <td>49</td>\n      <td>49</td>\n      <td>45</td>\n      <td>False</td>\n      <td>47.8</td>\n    </tr>\n    <tr>\n      <th>1</th>\n      <td>Ivysaur</td>\n      <td>Grass</td>\n      <td>Poison</td>\n      <td>60</td>\n      <td>62</td>\n      <td>63</td>\n      <td>60</td>\n      <td>False</td>\n      <td>61.7</td>\n    </tr>\n    <tr>\n      <th>2</th>\n      <td>Venusaur</td>\n      <td>Grass</td>\n      <td>Poison</td>\n      <td>80</td>\n      <td>82</td>\n      <td>83</td>\n      <td>80</td>\n      <td>False</td>\n      <td>81.7</td>\n    </tr>\n    <tr>\n      <th>3</th>\n      <td>VenusaurMega Venusaur</td>\n      <td>Grass</td>\n      <td>Poison</td>\n      <td>80</td>\n      <td>100</td>\n      <td>123</td>\n      <td>80</td>\n      <td>False</td>\n      <td>100.9</td>\n    </tr>\n    <tr>\n      <th>4</th>\n      <td>Charmander</td>\n      <td>Fire</td>\n      <td>NaN</td>\n      <td>39</td>\n      <td>52</td>\n      <td>43</td>\n      <td>65</td>\n      <td>False</td>\n      <td>48.0</td>\n    </tr>\n    <tr>\n      <th>...</th>\n      <td>...</td>\n      <td>...</td>\n      <td>...</td>\n      <td>...</td>\n      <td>...</td>\n      <td>...</td>\n      <td>...</td>\n      <td>...</td>\n      <td>...</td>\n    </tr>\n    <tr>\n      <th>795</th>\n      <td>Diancie</td>\n      <td>Rock</td>\n      <td>Fairy</td>\n      <td>50</td>\n      <td>100</td>\n      <td>150</td>\n      <td>50</td>\n      <td>True</td>\n      <td>100.0</td>\n    </tr>\n    <tr>\n      <th>796</th>\n      <td>DiancieMega Diancie</td>\n      <td>Rock</td>\n      <td>Fairy</td>\n      <td>50</td>\n      <td>160</td>\n      <td>110</td>\n      <td>110</td>\n      <td>True</td>\n      <td>118.0</td>\n    </tr>\n    <tr>\n      <th>797</th>\n      <td>HoopaHoopa Confined</td>\n      <td>Psychic</td>\n      <td>Ghost</td>\n      <td>80</td>\n      <td>110</td>\n      <td>60</td>\n      <td>70</td>\n      <td>True</td>\n      <td>85.0</td>\n    </tr>\n    <tr>\n      <th>798</th>\n      <td>HoopaHoopa Unbound</td>\n      <td>Psychic</td>\n      <td>Dark</td>\n      <td>80</td>\n      <td>160</td>\n      <td>60</td>\n      <td>80</td>\n      <td>True</td>\n      <td>106.0</td>\n    </tr>\n    <tr>\n      <th>799</th>\n      <td>Volcanion</td>\n      <td>Fire</td>\n      <td>Water</td>\n      <td>80</td>\n      <td>110</td>\n      <td>120</td>\n      <td>70</td>\n      <td>True</td>\n      <td>103.0</td>\n    </tr>\n  </tbody>\n</table>\n<p>800 rows × 9 columns</p>\n</div>"
     },
     "execution_count": 190,
     "metadata": {},
     "output_type": "execute_result"
    }
   ],
   "source": [
    "# Your solution here\n",
    "\n",
    "df['Weighted Score'] = 0.2*df['HP']+0.4*df['Attack']+0.3*df['Defense']+0.1*df['Speed']\n",
    "df"
   ]
  },
  {
   "cell_type": "markdown",
   "metadata": {},
   "source": [
    "### B6. Research questions (2 marks)"
   ]
  },
  {
   "cell_type": "markdown",
   "metadata": {},
   "source": [
    "#### B6.1 Come up with at least two research questions about your dataset that will require data visualizations to help answer. (2 marks)\n",
    "\n",
    "Recall that for this purpose, you should only aim for \"Descriptive\" or \"Exploratory\" research questions.\n",
    "\n",
    "**Hint1: You are welcome to calculate any columns that you think might be useful to answer the question (or re-add dropped columns like 'Generation', 'Sp. Atk', 'Sp. Def'.***\n",
    "\n",
    "**Hint2: Try not to overthink this; this is a toy dataset about Pokémon, you're not going to solve climate change or cure world hunger. Focus your research questions on the various Pokémon attributes, and the types.**"
   ]
  },
  {
   "cell_type": "markdown",
   "metadata": {},
   "source": [
    "#### # Your solution here: \n",
    "\n",
    "**1. Sample Research Question:** Which Pokemon Types are the best, as determined by the Weighted Score?\n",
    "\n",
    "**2. Your RQ 1:** How may pokemons are there for each generation?\n",
    "\n",
    "**3. Your RQ 2:** Which generation of pokemons are stronger\n",
    "according to 'Weighted Score'\n",
    "\n"
   ]
  },
  {
   "cell_type": "markdown",
   "metadata": {},
   "source": [
    "### B7. Data Analysis and Visualizations"
   ]
  },
  {
   "cell_type": "markdown",
   "metadata": {},
   "source": [
    "#### B7.1. **Sample Research Question:** Which Pokemon Types are the best, as determined by the Weighted Score? (3 marks)\n",
    "\n",
    "To answer this question, we will first need to do wrangle the data to return the mean Weighted_Score, split by the Pokemon Type 1. \n",
    "\n",
    "Here is the goal of this analysis:\n",
    "\n",
    "<img src=\"groupby.png\" width=\"200px\">\n"
   ]
  },
  {
   "cell_type": "code",
   "execution_count": 191,
   "metadata": {},
   "outputs": [],
   "source": [
    "# Your Solution here"
   ]
  },
  {
   "cell_type": "markdown",
   "metadata": {},
   "source": [
    "#### B7.2. Create a violin plot to show the distribution of Weighted_Scores split by all the Pokémon types. (2 marks)\n",
    "\n",
    "Here is the goal:\n",
    "\n",
    "<img src=\"violin.png\" width=\"350px\">"
   ]
  },
  {
   "cell_type": "code",
   "execution_count": 192,
   "metadata": {},
   "outputs": [],
   "source": [
    "# Your Solution here"
   ]
  },
  {
   "cell_type": "markdown",
   "metadata": {},
   "source": [
    "#### B7.3. Create a Box Plot and overlay a strip plot (2 marks)\n",
    "\n",
    "Here is the goal:\n",
    "\n",
    "<img src=\"BoxPlot.png\" width=\"350px\">"
   ]
  },
  {
   "cell_type": "code",
   "execution_count": 193,
   "metadata": {},
   "outputs": [],
   "source": [
    "# Your Solution here "
   ]
  },
  {
   "cell_type": "markdown",
   "metadata": {},
   "source": [
    "#### 7.4. Create a [Hexbin plot with marginal distributions](http://seaborn.pydata.org/generated/seaborn.jointplot.html) (2 marks)\n",
    "\n",
    "This plot helps you visualize large amounts of data (and its distributions) by using colours to represent the number of points in a hexagonal shape.\n",
    "\n",
    "Here is the goal:\n",
    "\n",
    "<img src=\"jointplot.png\" width=\"350px\">"
   ]
  },
  {
   "cell_type": "code",
   "execution_count": 194,
   "metadata": {},
   "outputs": [],
   "source": [
    "# Your Solution here "
   ]
  },
  {
   "cell_type": "markdown",
   "metadata": {},
   "source": [
    "#### B7.5. Create a [PairPlot](https://seaborn.pydata.org/generated/seaborn.pairplot.html#seaborn.pairplot) of the quantiative features of the pokémon dataset (1 mark)\n",
    "\n",
    "Here is the goal:\n",
    "\n",
    "<img src=\"pairplot.png\" width=\"350px\">"
   ]
  },
  {
   "cell_type": "code",
   "execution_count": 195,
   "metadata": {},
   "outputs": [],
   "source": [
    "# Your Solution here"
   ]
  },
  {
   "cell_type": "markdown",
   "metadata": {},
   "source": [
    "#### B7.6. Create a visualization that helps you answer your first research question (2 marks)"
   ]
  },
  {
   "cell_type": "code",
   "execution_count": 196,
   "metadata": {},
   "outputs": [],
   "source": [
    "# Your Solution here"
   ]
  },
  {
   "cell_type": "markdown",
   "metadata": {},
   "source": [
    "#### B7.7. Create a visualization that helps you answer your second research question (2 marks)"
   ]
  },
  {
   "cell_type": "code",
   "execution_count": 197,
   "metadata": {},
   "outputs": [],
   "source": [
    "# Your Solution here"
   ]
  },
  {
   "cell_type": "markdown",
   "metadata": {},
   "source": [
    "### B8. Summary and conclusions (3 marks)"
   ]
  },
  {
   "cell_type": "markdown",
   "metadata": {},
   "source": [
    "#### B8.1. Summarize your findings and describe any conclusions and insight you were able to draw from your visualizations. (3 marks)\n",
    "\n",
    "- **Sample Research Question:** Which Pokemon Types are the best, as determined by the Weighted Score? (3 marks)\n",
    "\n",
    "    - Summary of findings, insight, and conclusions\n",
    "    - ..\n",
    "    \n",
    "\n",
    "- **Research Question 1:** RQ here\n",
    "\n",
    "    - Summary of findings, insight, and conclusions\n",
    "    - ..\n",
    "    \n",
    "\n",
    "- **Research Question 2:** RQ here\n",
    "\n",
    "    - Summary of findings, insight, and conclusions\n",
    "    - .."
   ]
  },
  {
   "cell_type": "markdown",
   "metadata": {},
   "source": [
    "## C. Method Chaining (8 marks)"
   ]
  },
  {
   "cell_type": "markdown",
   "metadata": {},
   "source": [
    "Method chaining allows you to apply multiple processing steps to your dataframe in a fewer lines of code so it is more readable. You should avoid having too many methods in your chain, as the more you have in a single chain, the harder it is to debug or troubleshoot. I would target about 5 methods in a chain, though this is a flexible suggestion and you should do what makes your analysis the most readable and group your chains based on their purpose (e.g., loading/cleaning, processing, etc…).\n",
    "\n",
    "**Note: See Milestone 2 for a more thorough description of method chaining.**"
   ]
  },
  {
   "cell_type": "markdown",
   "metadata": {},
   "source": [
    "#### C1. Use Method Chaining on the commands from sections B5.1, B5.2, B5.3, B5.4, B5.5. (4 marks)"
   ]
  },
  {
   "cell_type": "code",
   "execution_count": 198,
   "metadata": {},
   "outputs": [],
   "source": [
    "# Your Solution here"
   ]
  },
  {
   "cell_type": "markdown",
   "metadata": {},
   "source": [
    "#### C2. Use Method Chaining to do the tasks below. (4 marks)\n",
    "\n",
    "1. Remove all Pokémon 6th generation and above.\n",
    "2. Remove the Legendary column.\n",
    "3. Remove all rows that contain \"Forme\", a special form of Pokémon.\n",
    "4. Remove all rows that contain \"Mega\", another weird special form of Pokémon.\n",
    "\n",
    "**Hint: You will need to use the [.loc](https://towardsdatascience.com/effective-data-filtering-in-pandas-using-loc-40eb815455b6) in combination with the anonymous function lambda.**"
   ]
  },
  {
   "cell_type": "code",
   "execution_count": 199,
   "metadata": {},
   "outputs": [],
   "source": [
    "# Your Solution here"
   ]
  },
  {
   "cell_type": "markdown",
   "metadata": {},
   "source": [
    "## D. (OPTIONAL) Advanced Visualizations "
   ]
  },
  {
   "cell_type": "markdown",
   "metadata": {},
   "source": [
    "### D1. Create a [\"Ridgeline\"](https://seaborn.pydata.org/examples/kde_ridgeplot.html) plot fron the plots from B7.2 and B7.3 (2 marks).\n",
    "\n",
    "Here is the goal:\n",
    "\n",
    "<img src=\"ridgeline.png\" width=\"300px\">"
   ]
  },
  {
   "cell_type": "code",
   "execution_count": 200,
   "metadata": {},
   "outputs": [],
   "source": [
    "# Your Solution Here"
   ]
  }
 ],
 "metadata": {
  "kernelspec": {
   "display_name": "Python 3",
   "language": "python",
   "name": "python3"
  },
  "language_info": {
   "codemirror_mode": {
    "name": "ipython",
    "version": 3
   },
   "file_extension": ".py",
   "mimetype": "text/x-python",
   "name": "python",
   "nbconvert_exporter": "python",
   "pygments_lexer": "ipython3",
   "version": "3.8.3"
  }
 },
 "nbformat": 4,
 "nbformat_minor": 4
}